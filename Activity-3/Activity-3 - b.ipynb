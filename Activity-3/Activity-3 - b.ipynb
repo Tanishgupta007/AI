{
 "cells": [
  {
   "cell_type": "code",
   "execution_count": 9,
   "id": "81d756e5",
   "metadata": {
    "scrolled": true
   },
   "outputs": [],
   "source": [
    "import pandas as pd\n",
    "import numpy as np\n",
    "\n",
    "#Uploading data set\n",
    "data = pd.read_csv('sample2.csv')"
   ]
  },
  {
   "cell_type": "code",
   "execution_count": 11,
   "id": "ea2ef2c2",
   "metadata": {},
   "outputs": [
    {
     "name": "stdout",
     "output_type": "stream",
     "text": [
      "[['Some ' 'Small' 'no' 'affordable' 'many']\n",
      " ['Many' 'Big' 'no' 'expensive' 'one']\n",
      " ['Some ' 'Big' 'always' 'expensive' 'few']\n",
      " ['Many' 'Medium' 'no' 'expensive' 'many']\n",
      " ['Many' 'Small' 'no' 'affordable' 'many']]\n"
     ]
    }
   ],
   "source": [
    "#Creating array excluding the last column\n",
    "concepts = np.array(data)[:,:-1]\n",
    "print(concepts)"
   ]
  },
  {
   "cell_type": "code",
   "execution_count": 10,
   "id": "19ef62c9",
   "metadata": {},
   "outputs": [
    {
     "name": "stdout",
     "output_type": "stream",
     "text": [
      "['no' 'yes' 'no' 'yes' 'yes']\n"
     ]
    }
   ],
   "source": [
    "# Creating the target variable\n",
    "target = np.array(data)[:,-1]\n",
    "print(target)"
   ]
  },
  {
   "cell_type": "code",
   "execution_count": 12,
   "id": "43b101af",
   "metadata": {},
   "outputs": [
    {
     "name": "stdout",
     "output_type": "stream",
     "text": [
      "['Many' '?' 'no' '?' '?']\n"
     ]
    }
   ],
   "source": [
    "#Running the code with training data set\n",
    "def train(con,tar):\n",
    "    for i,val in enumerate(tar):\n",
    "        if val=='yes':\n",
    "            specific_h = con[i].copy()\n",
    "            break\n",
    "            \n",
    "    for i,val in enumerate(con):\n",
    "        if tar[i]=='yes':\n",
    "            for x in range(len(specific_h)):\n",
    "                if val[x] != specific_h[x]:\n",
    "                    specific_h[x] = '?'\n",
    "                else:\n",
    "                    pass\n",
    "    return specific_h \n",
    "\n",
    "#Generating the output\n",
    "print(train(concepts,target))"
   ]
  }
 ],
 "metadata": {
  "kernelspec": {
   "display_name": "Python 3 (ipykernel)",
   "language": "python",
   "name": "python3"
  },
  "language_info": {
   "codemirror_mode": {
    "name": "ipython",
    "version": 3
   },
   "file_extension": ".py",
   "mimetype": "text/x-python",
   "name": "python",
   "nbconvert_exporter": "python",
   "pygments_lexer": "ipython3",
   "version": "3.9.12"
  }
 },
 "nbformat": 4,
 "nbformat_minor": 5
}
