{
 "cells": [
  {
   "cell_type": "markdown",
   "id": "a8407a10",
   "metadata": {},
   "source": [
    "## Basics of Python"
   ]
  },
  {
   "cell_type": "code",
   "execution_count": 4,
   "id": "5b9883f7",
   "metadata": {},
   "outputs": [
    {
     "data": {
      "text/plain": [
       "5"
      ]
     },
     "execution_count": 4,
     "metadata": {},
     "output_type": "execute_result"
    }
   ],
   "source": [
    "# Expressions\n",
    "2+3"
   ]
  },
  {
   "cell_type": "code",
   "execution_count": 5,
   "id": "2d1010a4",
   "metadata": {},
   "outputs": [
    {
     "name": "stdout",
     "output_type": "stream",
     "text": [
      "Hello World\n",
      "0\n",
      "1\n",
      "2\n"
     ]
    }
   ],
   "source": [
    "print(\"Hello World\")\n",
    "\n",
    "# Statements\n",
    "for i in range(3):\n",
    "    print(i)"
   ]
  },
  {
   "cell_type": "markdown",
   "id": "efd6fdf6",
   "metadata": {},
   "source": [
    "## Data Types\n"
   ]
  },
  {
   "cell_type": "code",
   "execution_count": 6,
   "id": "f7ccdc04",
   "metadata": {},
   "outputs": [
    {
     "data": {
      "text/plain": [
       "int"
      ]
     },
     "execution_count": 6,
     "metadata": {},
     "output_type": "execute_result"
    }
   ],
   "source": [
    "type(80)"
   ]
  },
  {
   "cell_type": "code",
   "execution_count": 7,
   "id": "31ecc919",
   "metadata": {},
   "outputs": [
    {
     "data": {
      "text/plain": [
       "str"
      ]
     },
     "execution_count": 7,
     "metadata": {},
     "output_type": "execute_result"
    }
   ],
   "source": [
    "type('hello')"
   ]
  },
  {
   "cell_type": "code",
   "execution_count": 8,
   "id": "1fd75076",
   "metadata": {
    "scrolled": true
   },
   "outputs": [
    {
     "data": {
      "text/plain": [
       "float"
      ]
     },
     "execution_count": 8,
     "metadata": {},
     "output_type": "execute_result"
    }
   ],
   "source": [
    "type(99.9)"
   ]
  },
  {
   "cell_type": "code",
   "execution_count": 9,
   "id": "22b070f5",
   "metadata": {
    "scrolled": true
   },
   "outputs": [
    {
     "data": {
      "text/plain": [
       "bool"
      ]
     },
     "execution_count": 9,
     "metadata": {},
     "output_type": "execute_result"
    }
   ],
   "source": [
    "type(6>5)"
   ]
  },
  {
   "cell_type": "markdown",
   "id": "5903d43a",
   "metadata": {},
   "source": [
    "## Casting Data Types\n"
   ]
  },
  {
   "cell_type": "code",
   "execution_count": 10,
   "id": "cc9bcc33",
   "metadata": {
    "scrolled": true
   },
   "outputs": [
    {
     "data": {
      "text/plain": [
       "2"
      ]
     },
     "execution_count": 10,
     "metadata": {},
     "output_type": "execute_result"
    }
   ],
   "source": [
    "int(2.3)"
   ]
  },
  {
   "cell_type": "code",
   "execution_count": 12,
   "id": "7a79b852",
   "metadata": {},
   "outputs": [
    {
     "data": {
      "text/plain": [
       "'9'"
      ]
     },
     "execution_count": 12,
     "metadata": {},
     "output_type": "execute_result"
    }
   ],
   "source": [
    "str(9)"
   ]
  },
  {
   "cell_type": "code",
   "execution_count": 11,
   "id": "ebf1c23b",
   "metadata": {
    "scrolled": false
   },
   "outputs": [
    {
     "data": {
      "text/plain": [
       "4.0"
      ]
     },
     "execution_count": 11,
     "metadata": {},
     "output_type": "execute_result"
    }
   ],
   "source": [
    "float(4)"
   ]
  },
  {
   "cell_type": "markdown",
   "id": "bb21cfd6",
   "metadata": {},
   "source": [
    "## Lists"
   ]
  },
  {
   "cell_type": "code",
   "execution_count": 19,
   "id": "d210be3c",
   "metadata": {
    "scrolled": true
   },
   "outputs": [
    {
     "name": "stdout",
     "output_type": "stream",
     "text": [
      "sheep\n",
      "lion\n",
      "['sheep', 'goat', 'tiger']\n"
     ]
    }
   ],
   "source": [
    "animals = [\"dog\", \"cat\", \"sheep\", \"goat\", \"tiger\",\"lion\"]\n",
    "\n",
    "print(animals[2])\n",
    "print(animals[-1])\n",
    "print(animals[2:5])\n",
    "\n"
   ]
  },
  {
   "cell_type": "code",
   "execution_count": null,
   "id": "6c8082e4",
   "metadata": {},
   "outputs": [],
   "source": [
    "# Adding new element to list\n",
    "animals.append('cow')\n",
    "print(animals)"
   ]
  },
  {
   "cell_type": "code",
   "execution_count": 28,
   "id": "1989955e",
   "metadata": {},
   "outputs": [
    {
     "name": "stdout",
     "output_type": "stream",
     "text": [
      "['dog', 'cat', 'tiger', 'lion', 'cow']\n"
     ]
    }
   ],
   "source": [
    "# Removing element from list\n",
    "\n",
    "animals.remove(\"goat\")\n",
    "print(animals)"
   ]
  },
  {
   "cell_type": "code",
   "execution_count": 29,
   "id": "82ef5f46",
   "metadata": {},
   "outputs": [
    {
     "name": "stdout",
     "output_type": "stream",
     "text": [
      "[]\n"
     ]
    }
   ],
   "source": [
    "animals.clear()\n",
    "print(animals)"
   ]
  },
  {
   "cell_type": "markdown",
   "id": "55613c4a",
   "metadata": {},
   "source": [
    "## Tuple"
   ]
  },
  {
   "cell_type": "code",
   "execution_count": 34,
   "id": "3b9bdad5",
   "metadata": {},
   "outputs": [
    {
     "name": "stdout",
     "output_type": "stream",
     "text": [
      "rat\n",
      "5\n"
     ]
    }
   ],
   "source": [
    "animals = (\"bear\", \"dog\", \"cat\", \"rat\", \"goat\")\n",
    "\n",
    "print(animals[-2])\n",
    "print(len(animals))"
   ]
  },
  {
   "cell_type": "code",
   "execution_count": 32,
   "id": "dbf9713c",
   "metadata": {
    "scrolled": true
   },
   "outputs": [
    {
     "name": "stdout",
     "output_type": "stream",
     "text": [
      "bear\n",
      "dog\n",
      "cat\n",
      "rat\n",
      "goat\n"
     ]
    }
   ],
   "source": [
    "# looping through tuple\n",
    "for i in animals:\n",
    "    print(i)"
   ]
  },
  {
   "cell_type": "code",
   "execution_count": 36,
   "id": "b5ef229f",
   "metadata": {},
   "outputs": [
    {
     "name": "stdout",
     "output_type": "stream",
     "text": [
      "('a', 'b', 'c', 1, 2, 3)\n"
     ]
    }
   ],
   "source": [
    "# Joining tuples using +\n",
    "letters = ('a','b','c')\n",
    "numbers = (1, 2, 3)\n",
    "letter_numbers = letters + numbers\n",
    "\n",
    "print(letter_numbers)"
   ]
  },
  {
   "cell_type": "markdown",
   "id": "e6b82dca",
   "metadata": {},
   "source": [
    "## Dictionary"
   ]
  },
  {
   "cell_type": "code",
   "execution_count": 38,
   "id": "07b8f961",
   "metadata": {},
   "outputs": [
    {
     "data": {
      "text/plain": [
       "'three'"
      ]
     },
     "execution_count": 38,
     "metadata": {},
     "output_type": "execute_result"
    }
   ],
   "source": [
    "# Dictionaries key-value pair separated by commas\n",
    "dict1 = {\n",
    "    1 : \"one\",\n",
    "    2 : \"two\",\n",
    "    3 : \"three\",\n",
    "    4 : \"four\"\n",
    "}\n",
    "\n",
    "dict1[3]"
   ]
  },
  {
   "cell_type": "code",
   "execution_count": 39,
   "id": "5adce031",
   "metadata": {},
   "outputs": [
    {
     "data": {
      "text/plain": [
       "'two'"
      ]
     },
     "execution_count": 39,
     "metadata": {},
     "output_type": "execute_result"
    }
   ],
   "source": [
    "dict1.get(2)"
   ]
  },
  {
   "cell_type": "code",
   "execution_count": 42,
   "id": "6d053632",
   "metadata": {},
   "outputs": [
    {
     "name": "stdout",
     "output_type": "stream",
     "text": [
      "{1: 'one', 2: 'two', 3: 'three', 4: 'four', 5: 'five'}\n",
      "{1: 'one', 2: 'two', 3: 'three', 4: 'four'}\n"
     ]
    }
   ],
   "source": [
    "# Adding element to dictionary\n",
    "dict1[5] = \"five\"\n",
    "print(dict1)\n",
    "\n",
    "# Pop to remove an element\n",
    "\n",
    "dict1.pop(5)\n",
    "print(dict1)"
   ]
  },
  {
   "cell_type": "code",
   "execution_count": 44,
   "id": "5cb20f6e",
   "metadata": {},
   "outputs": [
    {
     "name": "stdout",
     "output_type": "stream",
     "text": [
      "key: 1 value: one\n",
      "key: 2 value: two\n",
      "key: 3 value: three\n",
      "key: 4 value: four\n"
     ]
    }
   ],
   "source": [
    "for x,y in dict1.items():\n",
    "    print(\"key:\",x,\"value:\",y)"
   ]
  },
  {
   "cell_type": "markdown",
   "id": "51ba53e4",
   "metadata": {},
   "source": [
    "## operators"
   ]
  },
  {
   "cell_type": "code",
   "execution_count": 47,
   "id": "cefe9d16",
   "metadata": {},
   "outputs": [
    {
     "name": "stdout",
     "output_type": "stream",
     "text": [
      "6\n",
      "-2\n",
      "8\n",
      "0.5\n"
     ]
    }
   ],
   "source": [
    "a = 2\n",
    "b = 4\n",
    "\n",
    "print(a+b)\n",
    "print(a-b)\n",
    "print(a*b)\n",
    "print(a/b)"
   ]
  },
  {
   "cell_type": "code",
   "execution_count": 48,
   "id": "23e34352",
   "metadata": {},
   "outputs": [
    {
     "name": "stdout",
     "output_type": "stream",
     "text": [
      "False\n"
     ]
    }
   ],
   "source": [
    "print(a==b)"
   ]
  },
  {
   "cell_type": "code",
   "execution_count": 49,
   "id": "7db31284",
   "metadata": {
    "scrolled": true
   },
   "outputs": [
    {
     "name": "stdout",
     "output_type": "stream",
     "text": [
      "True\n"
     ]
    }
   ],
   "source": [
    "print(a<b)"
   ]
  },
  {
   "cell_type": "markdown",
   "id": "3d112b85",
   "metadata": {},
   "source": [
    "## Statements"
   ]
  },
  {
   "cell_type": "code",
   "execution_count": null,
   "id": "45cf66be",
   "metadata": {},
   "outputs": [],
   "source": [
    "# If Statement\n",
    "a = 2\n",
    "b = 3\n",
    "if a<b:\n",
    "  print(\"a is smaller than b\")"
   ]
  },
  {
   "cell_type": "code",
   "execution_count": 51,
   "id": "ed7c4254",
   "metadata": {},
   "outputs": [
    {
     "name": "stdout",
     "output_type": "stream",
     "text": [
      " b is greater than c\n"
     ]
    }
   ],
   "source": [
    "a = 10\n",
    "b = 20\n",
    "if a == b:\n",
    "  print(\"a and b are equal\")\n",
    "elif a > b:\n",
    "  print(\"a is greater than b\")\n",
    "else:\n",
    "  print(\" b is greater than c\")"
   ]
  },
  {
   "cell_type": "markdown",
   "id": "dced29ff",
   "metadata": {},
   "source": [
    "## Loops"
   ]
  },
  {
   "cell_type": "code",
   "execution_count": 53,
   "id": "45e4935e",
   "metadata": {},
   "outputs": [
    {
     "name": "stdout",
     "output_type": "stream",
     "text": [
      "1\n",
      "2\n",
      "3\n"
     ]
    }
   ],
   "source": [
    "# While Loop \n",
    "i = 1\n",
    "while i<4:\n",
    "  print(i)\n",
    "  i += 1"
   ]
  },
  {
   "cell_type": "code",
   "execution_count": 55,
   "id": "fb748337",
   "metadata": {},
   "outputs": [
    {
     "name": "stdout",
     "output_type": "stream",
     "text": [
      "i\n",
      "n\n",
      "d\n",
      "i\n",
      "a\n"
     ]
    }
   ],
   "source": [
    "# For loop\n",
    "for x in \"india\":\n",
    "  print(x)"
   ]
  },
  {
   "cell_type": "markdown",
   "id": "6738c7ff",
   "metadata": {},
   "source": [
    "## Functions"
   ]
  },
  {
   "cell_type": "code",
   "execution_count": 56,
   "id": "0c2a2c3c",
   "metadata": {},
   "outputs": [
    {
     "name": "stdout",
     "output_type": "stream",
     "text": [
      "5\n"
     ]
    }
   ],
   "source": [
    "def sum(x,y):\n",
    "    print(x+y)\n",
    "    \n",
    "sum(2,3)"
   ]
  },
  {
   "cell_type": "code",
   "execution_count": 57,
   "id": "e0003a97",
   "metadata": {},
   "outputs": [
    {
     "name": "stdout",
     "output_type": "stream",
     "text": [
      "200\n"
     ]
    }
   ],
   "source": [
    "# Calculator\n",
    "def calculator(operand1, operand2, operator):\n",
    "    if operator == '+':\n",
    "        return operand1 + operand2\n",
    "    elif operator == '*':\n",
    "        return operand1 * operand2\n",
    "    elif operator == '/':\n",
    "        if operand2 != 0:\n",
    "            return operand1 / operand2\n",
    "        else:\n",
    "            return none\n",
    "    else:\n",
    "        return \"invalid inputs\"\n",
    "output = calculator(10, 20, '*')\n",
    "print(output)"
   ]
  },
  {
   "cell_type": "markdown",
   "id": "956495ab",
   "metadata": {},
   "source": [
    "## Exercise "
   ]
  },
  {
   "cell_type": "code",
   "execution_count": 58,
   "id": "1a25c21c",
   "metadata": {},
   "outputs": [
    {
     "name": "stdout",
     "output_type": "stream",
     "text": [
      "Enter first side: 5\n",
      "Enter second side: 6\n",
      "Enter third side: 7\n",
      "The area of the triangle is 14.70\n"
     ]
    }
   ],
   "source": [
    "# Area of triangle\n",
    "a = float(input('Enter first side: '))\n",
    "b = float(input('Enter second side: '))\n",
    "c = float(input('Enter third side: '))\n",
    "\n",
    "# calculate the semi-perimeter\n",
    "s = (a + b + c) / 2\n",
    "\n",
    "# calculate the area\n",
    "area = (s*(s-a)*(s-b)*(s-c)) ** 0.5\n",
    "print('The area of the triangle is %0.2f' %area)"
   ]
  }
 ],
 "metadata": {
  "kernelspec": {
   "display_name": "Python 3 (ipykernel)",
   "language": "python",
   "name": "python3"
  },
  "language_info": {
   "codemirror_mode": {
    "name": "ipython",
    "version": 3
   },
   "file_extension": ".py",
   "mimetype": "text/x-python",
   "name": "python",
   "nbconvert_exporter": "python",
   "pygments_lexer": "ipython3",
   "version": "3.9.12"
  }
 },
 "nbformat": 4,
 "nbformat_minor": 5
}
