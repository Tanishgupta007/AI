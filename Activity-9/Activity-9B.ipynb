{
 "cells": [
  {
   "cell_type": "code",
   "execution_count": 1,
   "id": "f566eca6",
   "metadata": {},
   "outputs": [],
   "source": [
    "import cv2"
   ]
  },
  {
   "cell_type": "code",
   "execution_count": 2,
   "id": "88b4f6d7",
   "metadata": {},
   "outputs": [],
   "source": [
    "import numpy as np"
   ]
  },
  {
   "cell_type": "code",
   "execution_count": 3,
   "id": "e2c1b177",
   "metadata": {},
   "outputs": [],
   "source": [
    "# RGB and unsigned int datatype\n",
    "img = np.zeros((400, 400, 3), dtype = \"uint8\")\n",
    "cv2.imshow('dark', img)\n",
    "  \n",
    "cv2.waitKey(0)\n",
    "cv2.destroyAllWindows()"
   ]
  },
  {
   "cell_type": "code",
   "execution_count": 4,
   "id": "b9c1f88d",
   "metadata": {},
   "outputs": [],
   "source": [
    "# Python3 program to draw line\n",
    "\n",
    "import numpy as np\n",
    "import cv2\n",
    "  \n",
    "img = np.zeros((400, 400, 3), dtype = \"uint8\")\n",
    "  \n",
    "# Creating line\n",
    "cv2.line(img, (20, 160), (100, 160), (0, 0, 255), 10)\n",
    "  \n",
    "cv2.imshow('dark', img)\n",
    "  \n",
    "cv2.waitKey(0)\n",
    "cv2.destroyAllWindows()"
   ]
  },
  {
   "cell_type": "code",
   "execution_count": 5,
   "id": "13be88b7",
   "metadata": {},
   "outputs": [],
   "source": [
    "# Python3 program to draw rectangle\n",
    "import numpy as np\n",
    "import cv2\n",
    "  \n",
    "# Creating a black image with 3\n",
    "# channels RGB and unsigned int datatype\n",
    "img = np.zeros((400, 400, 3), dtype = \"uint8\")\n",
    "  \n",
    "# Creating rectangle\n",
    "cv2.rectangle(img, (30, 30), (300, 200), (0, 255, 0), 5)\n",
    "  \n",
    "cv2.imshow('dark', img)\n",
    "\n",
    "cv2.waitKey(0)\n",
    "cv2.destroyAllWindows()"
   ]
  },
  {
   "cell_type": "code",
   "execution_count": 6,
   "id": "c09778d1",
   "metadata": {},
   "outputs": [],
   "source": [
    "#Python3 program to draw circle\n",
    "import numpy as np\n",
    "import cv2\n",
    "\n",
    "img = np.zeros((400, 400, 3), dtype = \"uint8\")\n",
    "  \n",
    "# Creating circle\n",
    "cv2.circle(img, (200, 200), 80, (255, 0, 0), 3)\n",
    "  \n",
    "cv2.imshow('dark', img)\n",
    "cv2.waitKey(0)\n",
    "cv2.destroyAllWindows()"
   ]
  },
  {
   "cell_type": "code",
   "execution_count": 7,
   "id": "fee4c886",
   "metadata": {},
   "outputs": [],
   "source": [
    "# Python3 program to write \n",
    "import numpy as np\n",
    "import cv2\n",
    "\n",
    "img = np.zeros((400, 400, 3), dtype = \"uint8\")\n",
    "  \n",
    "# writing text\n",
    "font = cv2.FONT_HERSHEY_SIMPLEX\n",
    "cv2.putText(img, 'Hello', (50, 50),font, 0.8, (0, 255, 0), 2, cv2.LINE_AA)\n",
    "  \n",
    "cv2.imshow('dark', img)\n",
    "\n",
    "cv2.waitKey(0)\n",
    "cv2.destroyAllWindows()"
   ]
  }
 ],
 "metadata": {
  "kernelspec": {
   "display_name": "Python 3 (ipykernel)",
   "language": "python",
   "name": "python3"
  },
  "language_info": {
   "codemirror_mode": {
    "name": "ipython",
    "version": 3
   },
   "file_extension": ".py",
   "mimetype": "text/x-python",
   "name": "python",
   "nbconvert_exporter": "python",
   "pygments_lexer": "ipython3",
   "version": "3.9.12"
  }
 },
 "nbformat": 4,
 "nbformat_minor": 5
}
