{
 "cells": [
  {
   "cell_type": "code",
   "execution_count": 31,
   "id": "72829f39",
   "metadata": {},
   "outputs": [],
   "source": [
    "from bs4 import BeautifulSoup\n",
    "import requests"
   ]
  },
  {
   "cell_type": "code",
   "execution_count": 32,
   "id": "dc2d09c0",
   "metadata": {},
   "outputs": [],
   "source": [
    "# Function to extract Product Title\n",
    "def get_title(soup):\n",
    "    try:\n",
    "        title = soup.find(\"span\", attrs={\"id\": \"productTitle\"})\n",
    "        title_string = title.get_text(strip=True)\n",
    "    except AttributeError:\n",
    "        title_string = \"\"\n",
    "    return title_string\n"
   ]
  },
  {
   "cell_type": "code",
   "execution_count": 33,
   "id": "cbe070e3",
   "metadata": {},
   "outputs": [],
   "source": [
    "# Function to extract Product Price\n",
    "def get_price(soup):\n",
    "    try:\n",
    "        price = soup.find(\"span\", attrs={\"class\": \"a-offscreen\"})\n",
    "        if price is not None:\n",
    "            price_string = price.get_text(strip=True)\n",
    "        else:\n",
    "            price_string = \"\"\n",
    "    except AttributeError:\n",
    "        price_string = \"\"\n",
    "    return price_string"
   ]
  },
  {
   "cell_type": "code",
   "execution_count": 34,
   "id": "2bda097b",
   "metadata": {},
   "outputs": [],
   "source": [
    "\n",
    "# Function to extract Product Rating\n",
    "def get_rating(soup):\n",
    "    try:\n",
    "        rating = soup.find(\"span\", attrs={\"class\": \"a-icon-alt\"})\n",
    "        if rating is not None:\n",
    "            rating_string = rating.get_text(strip=True)\n",
    "        else:\n",
    "            rating_string = \"\"\n",
    "    except AttributeError:\n",
    "        rating_string = \"\"\n",
    "    return rating_string\n",
    "\n"
   ]
  },
  {
   "cell_type": "code",
   "execution_count": 35,
   "id": "9a9538d4",
   "metadata": {},
   "outputs": [],
   "source": [
    "# Function to extract Number of User Reviews\n",
    "def get_review_count(soup):\n",
    "    try:\n",
    "        review_count = soup.find(\"span\", attrs={\"id\": \"acrCustomerReviewText\"})\n",
    "        if review_count is not None:\n",
    "            review_count_string = review_count.get_text(strip=True)\n",
    "        else:\n",
    "            review_count_string = \"\"\n",
    "    except AttributeError:\n",
    "        review_count_string = \"\"\n",
    "    return review_count_string\n",
    "\n"
   ]
  },
  {
   "cell_type": "code",
   "execution_count": 36,
   "id": "5b137c9b",
   "metadata": {},
   "outputs": [],
   "source": [
    "# Function to extract Availability Status\n",
    "def get_availability(soup):\n",
    "    try:\n",
    "        availability = soup.find(\"div\", attrs={\"id\": \"availability\"})\n",
    "        if availability is not None:\n",
    "            availability_string = availability.get_text(strip=True)\n",
    "        else:\n",
    "            availability_string = \"\"\n",
    "    except AttributeError:\n",
    "        availability_string = \"\"\n",
    "    return availability_string"
   ]
  },
  {
   "cell_type": "code",
   "execution_count": 37,
   "id": "9d2592f3",
   "metadata": {},
   "outputs": [
    {
     "name": "stdout",
     "output_type": "stream",
     "text": [
      "Product Title = boAt Airdopes 141 Bluetooth Truly Wireless in Ear Headphones with 42H Playtime, Beast Mode(Low Latency Upto 80ms) for Gaming, ENx Tech, IWP, IPX4 Water Resistance, Smooth Touch Controls(Pure White)\n",
      "Product Price = ₹1,399.00\n",
      "Product Rating = 3.9 out of 5 stars\n",
      "Number of Product Reviews = 184,660 ratings\n",
      "Availability = In stock\n"
     ]
    }
   ],
   "source": [
    "if __name__ == \"__main__\":\n",
    "    # Headers for request\n",
    "    headers = {\n",
    "        \"User-Agent\": \"Mozilla/5.0 (X11; Linux x86_64) AppleWebKit/537.36 (KHTML, like Gecko) Chrome/44.0.2403.157 Safari/537.36\",\n",
    "        \"Accept-Language\": \"en-US, en;q=0.5\"\n",
    "    }\n",
    "\n",
    "    # The webpage URL\n",
    "    url = \"https://www.amazon.in/Airdopes-141-Bluetooth-Wireless-Playtime/dp/B09N3ZLB3T?pd_rd_w=SaZb7&content-id=amzn1.sym.9477bc1f-c0f6-48fd-899e-707f6f9e612b&pf_rd_p=9477bc1f-c0f6-48fd-899e-707f6f9e612b&pf_rd_r=VZCVJ5Y2RCKS3S6AZEPW&pd_rd_wg=572Y8&pd_rd_r=510f661a-f6c2-49a4-9baa-72b3eebd91b5&pd_rd_i=B09N3ZLB3T&ref_=pd_bap_d_grid_rp_0_2_t&th=1\"\n",
    "    # HTTP Request\n",
    "    webpage = requests.get(url, headers=headers)\n",
    "\n",
    "    # Soup Object containing all data\n",
    "    soup = BeautifulSoup(webpage.content, \"html.parser\")\n",
    "\n",
    "    # Function calls to display all necessary product information\n",
    "    print(\"Product Title =\", get_title(soup))\n",
    "    print(\"Product Price =\", get_price(soup))\n",
    "    print(\"Product Rating =\", get_rating(soup))\n",
    "    print(\"Number of Product Reviews =\", get_review_count(soup))\n",
    "    print(\"Availability =\", get_availability(soup))"
   ]
  },
  {
   "cell_type": "code",
   "execution_count": null,
   "id": "b5998612",
   "metadata": {},
   "outputs": [],
   "source": []
  }
 ],
 "metadata": {
  "kernelspec": {
   "display_name": "Python 3 (ipykernel)",
   "language": "python",
   "name": "python3"
  },
  "language_info": {
   "codemirror_mode": {
    "name": "ipython",
    "version": 3
   },
   "file_extension": ".py",
   "mimetype": "text/x-python",
   "name": "python",
   "nbconvert_exporter": "python",
   "pygments_lexer": "ipython3",
   "version": "3.9.12"
  }
 },
 "nbformat": 4,
 "nbformat_minor": 5
}
